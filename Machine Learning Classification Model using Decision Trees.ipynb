{
  "nbformat": 4,
  "nbformat_minor": 0,
  "metadata": {
    "colab": {
      "provenance": []
    },
    "kernelspec": {
      "name": "python3",
      "display_name": "Python 3"
    }
  },
  "cells": [
    {
      "cell_type": "markdown",
      "metadata": {
        "id": "ST5d6dw3dLZh"
      },
      "source": [
        "# **Machine Learning Classification Model -- Morphological Classification of Galaxies using Decision Trees**"
      ]
    },
    {
      "cell_type": "markdown",
      "metadata": {
        "id": "ee1mHlUWfcsc"
      },
      "source": [
        "**Mount the Google Drive where the .npy file was saved, which is the galaxy data from the Sloan Digital Sky Survey (SDSS), and loading the data using numpy**"
      ]
    },
    {
      "cell_type": "code",
      "metadata": {
        "id": "yH0IOwb1YBHc",
        "colab": {
          "base_uri": "https://localhost:8080/"
        },
        "outputId": "80bbc177-c318-4959-ab04-0f68d75fe8c4"
      },
      "source": [
        "from google.colab import drive\n",
        "drive.mount(\"/content/drive\")"
      ],
      "execution_count": null,
      "outputs": [
        {
          "output_type": "stream",
          "name": "stdout",
          "text": [
            "Mounted at /content/drive\n"
          ]
        }
      ]
    },
    {
      "cell_type": "code",
      "metadata": {
        "id": "mzKLlj20fsJu"
      },
      "source": [
        "!ls drive/My\\ Drive"
      ],
      "execution_count": null,
      "outputs": []
    },
    {
      "cell_type": "code",
      "metadata": {
        "id": "jRpIuwdigDg5"
      },
      "source": [
        "file_path = \"/content/drive/My Drive/157CDATASET/\""
      ],
      "execution_count": null,
      "outputs": []
    },
    {
      "cell_type": "code",
      "metadata": {
        "id": "y61tYmPIimUv"
      },
      "source": [
        "import numpy as np\n",
        "\n",
        "data = np.load(file_path + 'galaxy_catalogue.npy')"
      ],
      "execution_count": null,
      "outputs": []
    },
    {
      "cell_type": "markdown",
      "metadata": {
        "id": "HpXP16UfWHQK"
      },
      "source": [
        "Checking out the couple of rows. Note that the columns are: $u-g$, $g-r$, $r-i$, $i-z$, eccentricity, $m_u$, $m_g$, $m_r$, $m_i$, $m_z$, $R_{50,u}$, $R_{50,r}$, $R_{50,z}$, $R_{90,u}$, $R_{90,r}$, $R_{90,z}$, and class."
      ]
    },
    {
      "cell_type": "code",
      "metadata": {
        "id": "HbQiDjyIWsjr",
        "colab": {
          "base_uri": "https://localhost:8080/"
        },
        "outputId": "ff621383-d7c1-4c39-e26c-5b6fb9ebd46f"
      },
      "source": [
        "data[:2]"
      ],
      "execution_count": null,
      "outputs": [
        {
          "output_type": "execute_result",
          "data": {
            "text/plain": [
              "array([(1.85765, 0.67158, 0.4231 , 0.3061 , 0.5854284, 2.251946, 2.339849, 2.380652, 2.359738, 2.395528, 3.095123, 3.818919, 3.82623 , 5.174814, 8.263009, 11.47734 , 'merger'),\n",
              "       (1.74259, 0.86085, 0.44927, 0.28851, 0.7498125, 2.031566, 2.084156, 2.092272, 2.124075, 2.133154, 1.430436, 1.422533, 1.385727, 3.732712, 3.416921,  3.330347, 'merger')],\n",
              "      dtype=[('u-g', '<f8'), ('g-r', '<f8'), ('r-i', '<f8'), ('i-z', '<f8'), ('ecc', '<f8'), ('m4_u', '<f8'), ('m4_g', '<f8'), ('m4_r', '<f8'), ('m4_i', '<f8'), ('m4_z', '<f8'), ('petroR50_u', '<f8'), ('petroR50_r', '<f8'), ('petroR50_z', '<f8'), ('petroR90_u', '<f8'), ('petroR90_r', '<f8'), ('petroR90_z', '<f8'), ('class', '<U20')])"
            ]
          },
          "metadata": {},
          "execution_count": 5
        }
      ]
    },
    {
      "cell_type": "markdown",
      "metadata": {
        "id": "_eq2V7xzFtq7"
      },
      "source": [
        "**Here, we get the features and targets of the data**\n",
        "\n",
        "We write a function ```get_features_targets``` that splits the dataset into input features and their corresponding targets. In this case, the inputs are the 4 galaxy colors ($u-g$, $g-r$, $r-i$, and $i-z$), eccentricity, $ugriz$ magnitudes, and concentrations $R_{50}/R_{90}$ in the $u$, $r$, and $z$ bands. The targets are the classes.\n",
        "\n"
      ]
    },
    {
      "cell_type": "code",
      "source": [
        "import pandas as pd\n",
        "\n",
        "data = pd.DataFrame(data)\n",
        "\n",
        "def get_features_targets(dataset):\n",
        "  data['petroR50/R90_r'] = data['petroR50_r'] / data['petroR90_r']\n",
        "  data['petroR50/R90_u'] = data['petroR50_u'] / data['petroR90_u']\n",
        "  data['petroR50/R90_z'] = data['petroR50_z'] / data['petroR90_z']\n",
        "\n",
        "  features = data[['u-g', 'g-r', 'r-i', 'i-z', 'ecc', 'm4_u', 'm4_g', 'm4_r', 'm4_i', 'm4_z', 'petroR50/R90_r', 'petroR50/R90_u', 'petroR50/R90_z']].to_numpy()\n",
        "  targets = data['class'].to_numpy()\n",
        "\n",
        "  return features, targets\n",
        "\n",
        "features, targets = get_features_targets(data)\n",
        "print(\"Features shape:\", features.shape)\n",
        "print(\"Targets shape:\", targets.shape)"
      ],
      "metadata": {
        "colab": {
          "base_uri": "https://localhost:8080/"
        },
        "id": "RRBVrcQKEo37",
        "outputId": "0cdd4b19-6303-47e5-ed80-dab07ccef8f3"
      },
      "execution_count": null,
      "outputs": [
        {
          "output_type": "stream",
          "name": "stdout",
          "text": [
            "Features shape: (780, 13)\n",
            "Targets shape: (780,)\n"
          ]
        }
      ]
    },
    {
      "cell_type": "markdown",
      "source": [
        "We write a function ```get_features_targets``` that splits the dataset into input features and their corresponding targets. Here the concentrations are manually coded. And the elements of the ```features``` are hard coded as well, though I'm pretty sure there is a much more efficient way. But the function works, so we push through."
      ],
      "metadata": {
        "id": "3DjFxtFCknTo"
      }
    },
    {
      "cell_type": "markdown",
      "metadata": {
        "id": "vnePPYpJNWoY"
      },
      "source": [
        "**Now, we train and run a decision tree model**\n",
        "\n",
        "A function ```predict_class``` is written that will train and validate a model that predicts a galaxy's class from its photometric properties. In particular, it should do the following:\n",
        "1. Split the dataset into a training and test dataset using an 80:20 split.\n",
        "2. Train the input model using the training dataset features and targets.\n",
        "3. Return two arrays-- the predicted and actual class of the test galaxies."
      ]
    },
    {
      "cell_type": "code",
      "metadata": {
        "id": "ydeUh_Tzvf0n",
        "colab": {
          "base_uri": "https://localhost:8080/"
        },
        "outputId": "7c8fdcd5-f49f-4d16-bcbc-01e6cc326ded"
      },
      "source": [
        "import numpy as np\n",
        "from sklearn.tree import DecisionTreeClassifier\n",
        "from sklearn.model_selection import train_test_split\n",
        "\n",
        "def predict_class(data):\n",
        "  features, targets = get_features_targets(data)\n",
        "  feat_train, feat_test, targ_train, targ_test = train_test_split(features, targets, train_size=0.8, test_size=0.2, random_state = 23)\n",
        "\n",
        "  DTC = DecisionTreeClassifier()\n",
        "  DTC = DTC.fit(feat_train, targ_train)\n",
        "\n",
        "  predicted = DTC.predict(feat_test)\n",
        "  actual = targ_test\n",
        "  return predicted, actual\n",
        "\n",
        "predicted_class, actual_class = predict_class(data)\n",
        "for i in np.arange(11):\n",
        "  print(\"%d, %s, %s\" % (i, predicted_class[i], actual_class[i]))"
      ],
      "execution_count": null,
      "outputs": [
        {
          "output_type": "stream",
          "name": "stdout",
          "text": [
            "0, spiral, merger\n",
            "1, merger, spiral\n",
            "2, merger, merger\n",
            "3, merger, merger\n",
            "4, elliptical, elliptical\n",
            "5, spiral, spiral\n",
            "6, merger, merger\n",
            "7, merger, spiral\n",
            "8, spiral, spiral\n",
            "9, elliptical, elliptical\n",
            "10, merger, merger\n"
          ]
        }
      ]
    },
    {
      "cell_type": "markdown",
      "source": [
        "We have written a function ```predict_class``` that trains and validates a model that predicts a galaxy's class from its photometric properties. Here we can see the predicted and actual class of the 11 test galaxies. In this particular run, only 2/11 had the wrong prediction, while the rest are correctly predicted."
      ],
      "metadata": {
        "id": "g2J_-zFKppcm"
      }
    },
    {
      "cell_type": "markdown",
      "metadata": {
        "id": "hlSp5k92OjuM"
      },
      "source": [
        "**Making a confusion matrix and testing the accuracy**\n",
        "\n",
        "The confusion matrix for the test dataset is a 3 x 3 matrix with the counts for each combination of actual and predicted class. The test accuracy of the decision tree classifer is defined as the number of correct predictions divided by the total number of predictions."
      ]
    },
    {
      "cell_type": "code",
      "metadata": {
        "id": "OZXvnOSLdH_k",
        "colab": {
          "base_uri": "https://localhost:8080/",
          "height": 472
        },
        "outputId": "fe195c40-7460-466c-97e6-e7586fc4e12b"
      },
      "source": [
        "import matplotlib.pyplot as plt\n",
        "from sklearn.metrics import confusion_matrix, ConfusionMatrixDisplay\n",
        "\n",
        "CM = confusion_matrix(actual_class, predicted_class)\n",
        "disp = ConfusionMatrixDisplay(confusion_matrix=CM, display_labels = ['elliptical', 'merger', 'spiral'])\n",
        "disp.plot(cmap='RdPu')\n",
        "plt.xlabel(\"Predicted Class\")\n",
        "plt.ylabel(\"Actual Class\")\n",
        "plt.title(\"Confusion Matrix\")\n",
        "plt.show()"
      ],
      "execution_count": null,
      "outputs": [
        {
          "output_type": "display_data",
          "data": {
            "text/plain": [
              "<Figure size 640x480 with 2 Axes>"
            ],
            "image/png": "[encoded data removed]"
          },
          "metadata": {}
        }
      ]
    },
    {
      "cell_type": "markdown",
      "source": [
        " The confusion matrix above shows the counts for each combination of the actual and predicted class. In total (in this run), the wrongly predicted sums up to 32, the correctly predicted ones are of 124. In this run, we can see the merger-merger (predicted-actual) has the most counts out of all the combinations."
      ],
      "metadata": {
        "id": "Sz-aWvdtqp5g"
      }
    },
    {
      "cell_type": "code",
      "source": [
        "from sklearn.metrics import accuracy_score\n",
        "\n",
        "sklearn_accuracy = accuracy_score(predicted_class, actual_class)\n",
        "\n",
        "correct = np.sum(actual_class == predicted_class)\n",
        "total = len(predicted_class)\n",
        "\n",
        "manual_accuracy = correct / total\n",
        "\n",
        "print(sklearn_accuracy)\n",
        "print(manual_accuracy)"
      ],
      "metadata": {
        "colab": {
          "base_uri": "https://localhost:8080/"
        },
        "id": "4aRVdsC4MuOH",
        "outputId": "440cb0ba-8386-4c02-c150-00bc40fdc495"
      },
      "execution_count": null,
      "outputs": [
        {
          "output_type": "stream",
          "name": "stdout",
          "text": [
            "0.7948717948717948\n",
            "0.7948717948717948\n"
          ]
        }
      ]
    },
    {
      "cell_type": "markdown",
      "source": [
        "In this run, we get an accuracy of 79.49%. Both the function from sklearn and the manual computation show the same number to a T (not surprising, since it's as easy as the number of correct predictions divided by the total number of predictions)."
      ],
      "metadata": {
        "id": "r5vo1_9OsT-_"
      }
    }
  ]
}